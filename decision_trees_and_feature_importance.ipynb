{
 "cells": [
  {
   "cell_type": "markdown",
   "id": "3ef3dafc",
   "metadata": {},
   "source": [
    "# Lecture: Feature Importance and Decision Trees\n",
    "This lecture was held on July 7th by Franziska Boenisch.\n",
    "\n",
    "The presented study material provides first an overview on how to use off-the-shelf decision trees for training and using decision trees. Then, it offers some hands-on exercises to deepen the understanding. "
   ]
  },
  {
   "cell_type": "code",
   "execution_count": null,
   "id": "6630cdc9",
   "metadata": {},
   "outputs": [],
   "source": [
    "# if you do not already have them, install the libraries needed for the tutorial\n",
    "%pip install scikit-learn\n",
    "%pip install pandas\n",
    "%pip install matplotlib"
   ]
  },
  {
   "cell_type": "code",
   "execution_count": 2,
   "id": "6d5941a8",
   "metadata": {},
   "outputs": [],
   "source": [
    "import pandas as pd             # to have nice data frames\n",
    "from sklearn import tree        # for the decision tree\n",
    "import matplotlib.pyplot as plt # for plotting\n",
    "import numpy as np"
   ]
  },
  {
   "cell_type": "code",
   "execution_count": 4,
   "id": "c0b0dbf2",
   "metadata": {},
   "outputs": [
    {
     "data": {
      "text/html": [
       "<div>\n",
       "<style scoped>\n",
       "    .dataframe tbody tr th:only-of-type {\n",
       "        vertical-align: middle;\n",
       "    }\n",
       "\n",
       "    .dataframe tbody tr th {\n",
       "        vertical-align: top;\n",
       "    }\n",
       "\n",
       "    .dataframe thead th {\n",
       "        text-align: right;\n",
       "    }\n",
       "</style>\n",
       "<table border=\"1\" class=\"dataframe\">\n",
       "  <thead>\n",
       "    <tr style=\"text-align: right;\">\n",
       "      <th></th>\n",
       "      <th>Social Media (min per day)</th>\n",
       "      <th>Attends</th>\n",
       "      <th>Passed Exam?</th>\n",
       "    </tr>\n",
       "    <tr>\n",
       "      <th>ID</th>\n",
       "      <th></th>\n",
       "      <th></th>\n",
       "      <th></th>\n",
       "    </tr>\n",
       "  </thead>\n",
       "  <tbody>\n",
       "    <tr>\n",
       "      <th>1</th>\n",
       "      <td>30</td>\n",
       "      <td>Yes</td>\n",
       "      <td>Yes</td>\n",
       "    </tr>\n",
       "    <tr>\n",
       "      <th>2</th>\n",
       "      <td>110</td>\n",
       "      <td>No</td>\n",
       "      <td>No</td>\n",
       "    </tr>\n",
       "    <tr>\n",
       "      <th>3</th>\n",
       "      <td>60</td>\n",
       "      <td>No</td>\n",
       "      <td>No</td>\n",
       "    </tr>\n",
       "    <tr>\n",
       "      <th>4</th>\n",
       "      <td>50</td>\n",
       "      <td>Yes</td>\n",
       "      <td>Yes</td>\n",
       "    </tr>\n",
       "    <tr>\n",
       "      <th>5</th>\n",
       "      <td>140</td>\n",
       "      <td>Yes</td>\n",
       "      <td>Yes</td>\n",
       "    </tr>\n",
       "    <tr>\n",
       "      <th>6</th>\n",
       "      <td>100</td>\n",
       "      <td>Yes</td>\n",
       "      <td>No</td>\n",
       "    </tr>\n",
       "    <tr>\n",
       "      <th>7</th>\n",
       "      <td>80</td>\n",
       "      <td>Yes</td>\n",
       "      <td>Yes</td>\n",
       "    </tr>\n",
       "    <tr>\n",
       "      <th>8</th>\n",
       "      <td>120</td>\n",
       "      <td>No</td>\n",
       "      <td>No</td>\n",
       "    </tr>\n",
       "  </tbody>\n",
       "</table>\n",
       "</div>"
      ],
      "text/plain": [
       "    Social Media (min per day) Attends Passed Exam?\n",
       "ID                                                 \n",
       "1                           30     Yes          Yes\n",
       "2                          110      No           No\n",
       "3                           60      No           No\n",
       "4                           50     Yes          Yes\n",
       "5                          140     Yes          Yes\n",
       "6                          100     Yes           No\n",
       "7                           80     Yes          Yes\n",
       "8                          120      No           No"
      ]
     },
     "execution_count": 4,
     "metadata": {},
     "output_type": "execute_result"
    }
   ],
   "source": [
    "# load and show the data\n",
    "data = pd.read_csv(\"dataset_tml.csv\",index_col=0)\n",
    "data"
   ]
  },
  {
   "cell_type": "markdown",
   "id": "34e78f35",
   "metadata": {},
   "source": [
    "## Data Plotting\n",
    "\n",
    "Before doing machine learning, you usually want to understand the data that you are working with. This works best when plotting it."
   ]
  },
  {
   "cell_type": "code",
   "execution_count": 5,
   "id": "8ab80030",
   "metadata": {},
   "outputs": [
    {
     "data": {
      "image/png": "[encoded data removed]",
      "text/plain": [
       "<Figure size 800x500 with 1 Axes>"
      ]
     },
     "metadata": {},
     "output_type": "display_data"
    }
   ],
   "source": [
    "import matplotlib.pyplot as plt\n",
    "\n",
    "# Map Attends to numeric for y-axis\n",
    "attends_numeric = data.iloc[:,1].map({\"No\":0, \"Yes\":1})\n",
    "\n",
    "# Masks for Passed/Failed\n",
    "passed_mask = data.iloc[:,2] == \"Yes\"\n",
    "failed_mask = data.iloc[:,2] == \"No\"\n",
    "\n",
    "# Plot\n",
    "plt.figure(figsize=(8,5))\n",
    "\n",
    "# Passed: green dots\n",
    "plt.scatter(\n",
    "    data.loc[passed_mask, data.columns[0]],\n",
    "    attends_numeric[passed_mask],\n",
    "    color=\"green\",\n",
    "    marker=\"o\",\n",
    "    label=\"Passed\"\n",
    ")\n",
    "\n",
    "# Failed: red crosses\n",
    "plt.scatter(\n",
    "    data.loc[failed_mask, data.columns[0]],\n",
    "    attends_numeric[failed_mask],\n",
    "    color=\"red\",\n",
    "    marker=\"x\",\n",
    "    label=\"Failed\"\n",
    ")\n",
    "\n",
    "# Formatting\n",
    "plt.yticks([0,1], [\"No\",\"Yes\"])\n",
    "plt.xlabel(\"Social Media Time (minutes)\")\n",
    "plt.ylabel(\"Attends Class\")\n",
    "plt.title(\"Student Outcomes by Social Media Time and Attendance\")\n",
    "plt.legend()\n",
    "plt.grid(True)\n",
    "plt.tight_layout()\n",
    "plt.show()\n"
   ]
  },
  {
   "cell_type": "markdown",
   "id": "b95943b2",
   "metadata": {},
   "source": [
    "## SKLearn's Decision Tree\n",
    "\n",
    "The following code let's you explore the sklearn library and its built-in decision trees."
   ]
  },
  {
   "cell_type": "code",
   "execution_count": 6,
   "id": "0d4951c9",
   "metadata": {},
   "outputs": [],
   "source": [
    "# We will be buliding two trees, one with gini-based splitting, and the other one based on entropy\n",
    "clf_gini = tree.DecisionTreeClassifier(criterion=\"gini\", max_depth=3) \n",
    "clf_entropy = tree.DecisionTreeClassifier(criterion=\"entropy\", max_depth=3) "
   ]
  },
  {
   "cell_type": "code",
   "execution_count": null,
   "id": "eab31d4b",
   "metadata": {},
   "outputs": [],
   "source": [
    "# Pre-process data for training\n",
    "# Map categorical features and label\n",
    "data = data.replace({\"Yes\": 1, \"No\": 0}) # yes and no strings are mapped to 1 and 0\n",
    "\n",
    "# Split into features and label\n",
    "X = data.iloc[:, :-1]  # all columns except \"Passed\"\n",
    "Y = data.iloc[:, -1]   # the \"Passed\" column"
   ]
  },
  {
   "cell_type": "code",
   "execution_count": 8,
   "id": "3b593154",
   "metadata": {},
   "outputs": [],
   "source": [
    "# Here is where the actual training happens\n",
    "clf_gini = clf_gini.fit(X, Y)\n",
    "clf_entropy = clf_entropy.fit(X, Y)"
   ]
  },
  {
   "cell_type": "code",
   "execution_count": 9,
   "id": "5decd76a",
   "metadata": {},
   "outputs": [
    {
     "data": {
      "text/plain": [
       "array([1, 0, 0, 1, 1, 0, 1, 0])"
      ]
     },
     "execution_count": 9,
     "metadata": {},
     "output_type": "execute_result"
    }
   ],
   "source": [
    "# This is how predictions work\n",
    "clf_gini.predict(X)"
   ]
  },
  {
   "cell_type": "code",
   "execution_count": 10,
   "id": "9b8724e7",
   "metadata": {},
   "outputs": [
    {
     "data": {
      "text/plain": [
       "array([0.4, 0.6])"
      ]
     },
     "execution_count": 10,
     "metadata": {},
     "output_type": "execute_result"
    }
   ],
   "source": [
    "# Compute the feature importance of the tree (first value for time on social media, second for attendance)\n",
    "clf_gini.feature_importances_"
   ]
  },
  {
   "cell_type": "code",
   "execution_count": null,
   "id": "ed402421",
   "metadata": {},
   "outputs": [
    {
     "data": {
      "text/plain": [
       "[Text(0.3333333333333333, 0.875, 'x[1] <= 0.5\\ngini = 0.5\\nsamples = 8\\nvalue = [4, 4]'),\n",
       " Text(0.16666666666666666, 0.625, 'gini = 0.0\\nsamples = 3\\nvalue = [3, 0]'),\n",
       " Text(0.25, 0.75, 'True  '),\n",
       " Text(0.5, 0.625, 'x[0] <= 90.0\\ngini = 0.32\\nsamples = 5\\nvalue = [1, 4]'),\n",
       " Text(0.41666666666666663, 0.75, '  False'),\n",
       " Text(0.3333333333333333, 0.375, 'gini = 0.0\\nsamples = 3\\nvalue = [0, 3]'),\n",
       " Text(0.6666666666666666, 0.375, 'x[0] <= 120.0\\ngini = 0.5\\nsamples = 2\\nvalue = [1, 1]'),\n",
       " Text(0.5, 0.125, 'gini = 0.0\\nsamples = 1\\nvalue = [1, 0]'),\n",
       " Text(0.8333333333333334, 0.125, 'gini = 0.0\\nsamples = 1\\nvalue = [0, 1]')]"
      ]
     },
     "execution_count": 11,
     "metadata": {},
     "output_type": "execute_result"
    },
    {
     "data": {
      "image/png": "[encoded data removed]",
      "text/plain": [
       "<Figure size 640x480 with 1 Axes>"
      ]
     },
     "metadata": {},
     "output_type": "display_data"
    }
   ],
   "source": [
    "tree.plot_tree(clf_gini, )"
   ]
  },
  {
   "cell_type": "markdown",
   "id": "f71d0c49",
   "metadata": {},
   "source": [
    "## Get Active and Write Some Functions\n",
    "The following code is a scaffolding that allows to compute impurity and impurity gain. You can use it to improve your understanding from the lecture.\n",
    "\n",
    "All the TBD places should be filled with code.\n",
    "\n",
    "Overall what the code should do is to go iteratively over your dataset, calculate the impurity and impurity gain at every possible split, and based on it output the best split and build the tree."
   ]
  },
  {
   "cell_type": "code",
   "execution_count": null,
   "id": "b803ad92",
   "metadata": {},
   "outputs": [],
   "source": [
    "import math\n",
    "\n",
    "feature_names = list(X.columns)\n",
    "\n",
    "# Select criterion\n",
    "criterion =  'gini' #'entropy' or 'gini'\n",
    "\n",
    "\n",
    "# --- Helper functions ---\n",
    "def entropy(p):\n",
    "    \"\"\"TBD\"\"\"\n",
    "\n",
    "def gini(p):\n",
    "    \"\"\"TBD\"\"\"\n",
    "\n",
    "def impurity_func(p):\n",
    "    \"\"\"TBD\"\"\"\n",
    "\n",
    "def get_impurity(y_subset):\n",
    "    \"\"\"TBD\"\"\"\n",
    "\n",
    "def info_gain(parent_y, left_y, right_y):\n",
    "    \"\"\"TBD\"\"\"\n",
    "\n",
    "# --- Recursive split trace ---\n",
    "def explore_splits(X_node, y_node, depth=0):\n",
    "    if len(y_node) <= 1:\n",
    "        return\n",
    "\n",
    "    indent = \"  \" * depth\n",
    "    print(f\"{indent}Node at depth {depth} with {len(y_node)} samples\")\n",
    "    print(f\"{indent}Current impurity: {get_impurity(y_node):.4f}\")\n",
    "\n",
    "    best_gain = -1\n",
    "    best_split = None\n",
    "\n",
    "    for feature in X_node.columns:\n",
    "        values = np.sort(X_node[feature].unique())\n",
    "        # print(values)\n",
    "        if X_node[feature].dtype.kind in 'iuf':  # numeric\n",
    "            thresholds = \"\"\"TBD: insert how to determine the threshold\"\"\"\n",
    "            # print(thresholds)\n",
    "            for thresh in thresholds:\n",
    "                \"\"\"TBD: find the best gain and ideally print some user-readable output.\"\"\"\n",
    "        else:  # categorical (not needed here)\n",
    "            pass\n",
    "\n",
    "    if best_split:\n",
    "        feature, thresh = best_split\n",
    "        print(f\"{indent}=> Best split: {feature} <= {thresh} (gain = {best_gain:.4f})\\n\")\n",
    "        left_idx = X_node[feature] <= thresh\n",
    "        right_idx = ~left_idx\n",
    "        explore_splits(X_node[left_idx], y_node[left_idx], depth + 1)\n",
    "        explore_splits(X_node[right_idx], y_node[right_idx], depth + 1)\n",
    "    else:\n",
    "        print(f\"{indent}=> No good split found.\\n\")\n",
    "\n",
    "# --- Run split exploration ---\n",
    "explore_splits(X, Y)\n"
   ]
  },
  {
   "cell_type": "markdown",
   "id": "5f9eba76",
   "metadata": {},
   "source": [
    "## Solution\n",
    "\n",
    "This is an example solution."
   ]
  },
  {
   "cell_type": "code",
   "execution_count": 14,
   "id": "d68da017",
   "metadata": {},
   "outputs": [
    {
     "name": "stdout",
     "output_type": "stream",
     "text": [
      "Node at depth 0 with 8 samples\n",
      "Current impurity: 0.5000\n",
      "- Split Social Media (min per day) <= 40.0: gain = 0.0714\n",
      "- Split Social Media (min per day) <= 55.0: gain = 0.1667\n",
      "- Split Social Media (min per day) <= 70.0: gain = 0.0333\n",
      "- Split Social Media (min per day) <= 90.0: gain = 0.1250\n",
      "- Split Social Media (min per day) <= 105.0: gain = 0.0333\n",
      "- Split Social Media (min per day) <= 115.0: gain = 0.0000\n",
      "- Split Social Media (min per day) <= 130.0: gain = 0.0714\n",
      "- Split Attends <= 0.5: gain = 0.3000\n",
      "=> Best split: Attends <= 0.5 (gain = 0.3000)\n",
      "\n",
      "  Node at depth 1 with 3 samples\n",
      "  Current impurity: 0.0000\n",
      "  - Split Social Media (min per day) <= 85.0: gain = 0.0000\n",
      "  - Split Social Media (min per day) <= 115.0: gain = 0.0000\n",
      "  => Best split: Social Media (min per day) <= 85.0 (gain = 0.0000)\n",
      "\n",
      "    Node at depth 2 with 2 samples\n",
      "    Current impurity: 0.0000\n",
      "    - Split Social Media (min per day) <= 115.0: gain = 0.0000\n",
      "    => Best split: Social Media (min per day) <= 115.0 (gain = 0.0000)\n",
      "\n",
      "  Node at depth 1 with 5 samples\n",
      "  Current impurity: 0.3200\n",
      "  - Split Social Media (min per day) <= 40.0: gain = 0.0200\n",
      "  - Split Social Media (min per day) <= 65.0: gain = 0.0533\n",
      "  - Split Social Media (min per day) <= 90.0: gain = 0.1200\n",
      "  - Split Social Media (min per day) <= 120.0: gain = 0.0200\n",
      "  => Best split: Social Media (min per day) <= 90.0 (gain = 0.1200)\n",
      "\n",
      "    Node at depth 2 with 3 samples\n",
      "    Current impurity: 0.0000\n",
      "    - Split Social Media (min per day) <= 40.0: gain = 0.0000\n",
      "    - Split Social Media (min per day) <= 65.0: gain = 0.0000\n",
      "    => Best split: Social Media (min per day) <= 40.0 (gain = 0.0000)\n",
      "\n",
      "      Node at depth 3 with 2 samples\n",
      "      Current impurity: 0.0000\n",
      "      - Split Social Media (min per day) <= 65.0: gain = 0.0000\n",
      "      => Best split: Social Media (min per day) <= 65.0 (gain = 0.0000)\n",
      "\n",
      "    Node at depth 2 with 2 samples\n",
      "    Current impurity: 0.5000\n",
      "    - Split Social Media (min per day) <= 120.0: gain = 0.5000\n",
      "    => Best split: Social Media (min per day) <= 120.0 (gain = 0.5000)\n",
      "\n"
     ]
    }
   ],
   "source": [
    "import math\n",
    "\n",
    "feature_names = list(X.columns)\n",
    "\n",
    "# Select criterion\n",
    "criterion =  'gini' #'entropy' or 'gini'\n",
    "\n",
    "\n",
    "# --- Helper functions ---\n",
    "def entropy(p):\n",
    "    if p == 0 or p == 1:\n",
    "        return 0\n",
    "    return -p * math.log2(p) - (1 - p) * math.log2(1 - p)\n",
    "\n",
    "def gini(p):\n",
    "    return 2 * p * (1 - p)\n",
    "\n",
    "def impurity_func(p):\n",
    "    return entropy(p) if criterion == 'entropy' else gini(p)\n",
    "\n",
    "def get_impurity(y_subset):\n",
    "    if len(y_subset) == 0:\n",
    "        return 0\n",
    "    p = np.mean(y_subset)\n",
    "    return impurity_func(p)\n",
    "\n",
    "def info_gain(parent_y, left_y, right_y):\n",
    "    p_impurity = get_impurity(parent_y)\n",
    "    w_l = len(left_y) / len(parent_y)\n",
    "    w_r = len(right_y) / len(parent_y)\n",
    "    return p_impurity - (w_l * get_impurity(left_y) + w_r * get_impurity(right_y))\n",
    "\n",
    "# --- Recursive split trace ---\n",
    "def explore_splits(X_node, y_node, depth=0):\n",
    "    if len(y_node) <= 1:\n",
    "        return\n",
    "\n",
    "    indent = \"  \" * depth\n",
    "    print(f\"{indent}Node at depth {depth} with {len(y_node)} samples\")\n",
    "    print(f\"{indent}Current impurity: {get_impurity(y_node):.4f}\")\n",
    "\n",
    "    best_gain = -1\n",
    "    best_split = None\n",
    "\n",
    "    for feature in X_node.columns:\n",
    "        values = np.sort(X_node[feature].unique())\n",
    "        # print(values)\n",
    "        if X_node[feature].dtype.kind in 'iuf':  # numeric\n",
    "            thresholds = (values[:-1] + values[1:]) / 2 # pairwise averages\n",
    "            # print(thresholds)\n",
    "            for thresh in thresholds:\n",
    "                left_idx = X_node[feature] <= thresh\n",
    "                right_idx = ~left_idx\n",
    "                left_y, right_y = y_node[left_idx], y_node[right_idx]\n",
    "                gain = info_gain(y_node, left_y, right_y)\n",
    "                print(f\"{indent}- Split {feature} <= {thresh}: gain = {gain:.4f}\")\n",
    "                if gain > best_gain:\n",
    "                    best_gain = gain\n",
    "                    best_split = (feature, thresh)\n",
    "        else:  # categorical (not needed here)\n",
    "            pass\n",
    "\n",
    "    if best_split:\n",
    "        feature, thresh = best_split\n",
    "        print(f\"{indent}=> Best split: {feature} <= {thresh} (gain = {best_gain:.4f})\\n\")\n",
    "        left_idx = X_node[feature] <= thresh\n",
    "        right_idx = ~left_idx\n",
    "        explore_splits(X_node[left_idx], y_node[left_idx], depth + 1)\n",
    "        explore_splits(X_node[right_idx], y_node[right_idx], depth + 1)\n",
    "    else:\n",
    "        print(f\"{indent}=> No good split found.\\n\")\n",
    "\n",
    "# --- Run split exploration ---\n",
    "explore_splits(X, Y)\n"
   ]
  }
 ],
 "metadata": {
  "kernelspec": {
   "display_name": "Python 3",
   "language": "python",
   "name": "python3"
  },
  "language_info": {
   "codemirror_mode": {
    "name": "ipython",
    "version": 3
   },
   "file_extension": ".py",
   "mimetype": "text/x-python",
   "name": "python",
   "nbconvert_exporter": "python",
   "pygments_lexer": "ipython3",
   "version": "3.12.4"
  }
 },
 "nbformat": 4,
 "nbformat_minor": 5
}
